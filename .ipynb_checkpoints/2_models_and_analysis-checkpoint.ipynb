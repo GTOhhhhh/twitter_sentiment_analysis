{
 "cells": [
  {
   "cell_type": "markdown",
   "metadata": {},
   "source": [
    "# Twitter Sentiment Analysis: Classifying Hate Speech (Pt II)"
   ]
  },
  {
   "cell_type": "markdown",
   "metadata": {},
   "source": [
    "The goal for this project is to build a model that will allow us to detect hate speech in tweets. In this case a tweet is classified as hate speech if it contains racist or sexist remarks.\n",
    "\n",
    "All data for this project is sourced from: https://datahack.analyticsvidhya.com/contest/practice-problem-twitter-sentiment-analysis/. Inspiration and some code for this project has been taken from:\n",
    "- 'Stemming - Natural Language Processing With Python and NLTK p.3'- https://www.youtube.com/watch?v=yGKTphqxR9Q\n",
    "- https://datascienceplus.com/twitter-analysis-with-python/\n",
    "- Ultimate guide to deal with Text Data (using Python) – for Data Scientists & Engineers https://www.analyticsvidhya.com/blog/2018/02/the-different-methods-deal-text-data-predictive-python/\n",
    "- 'Deep Learning tutorials in jupyter notebooks.' - https://github.com/sachinruk/deepschool.io\n",
    "- 'Text Classification Using CNN, LSTM and visualize Word Embeddings' - https://medium.com/@sabber/classifying-yelp-review-comments-using-cnn-lstm-and-visualize-word-embeddings-part-2-ca137a42a97d\n",
    "- Tensor Flow: Embeddings Guide - https://www.tensorflow.org/guide/embedding\n",
    "- Comparing scikit-learn text classifiers https://blog.kjamistan.com/comparing-scikit-learn-text-classifiers-on-a-fake-news-dataset/\n",
    "- Understanding LSTM Networks - http://colah.github.io/posts/2015-08-Understanding-LSTMs/"
   ]
  },
  {
   "cell_type": "markdown",
   "metadata": {},
   "source": [
    "## Section 1: Setup ##\n",
    "The data set we will be using to train our model consists of 31962 labelled tweets. Each row is 3-tuple (id, label, tweet). A label of 1 means the tweet is hate speech, a label of 0 is a normal tweet. "
   ]
  },
  {
   "cell_type": "code",
   "execution_count": 46,
   "metadata": {},
   "outputs": [
    {
     "data": {
      "text/html": [
       "<div>\n",
       "<style scoped>\n",
       "    .dataframe tbody tr th:only-of-type {\n",
       "        vertical-align: middle;\n",
       "    }\n",
       "\n",
       "    .dataframe tbody tr th {\n",
       "        vertical-align: top;\n",
       "    }\n",
       "\n",
       "    .dataframe thead th {\n",
       "        text-align: right;\n",
       "    }\n",
       "</style>\n",
       "<table border=\"1\" class=\"dataframe\">\n",
       "  <thead>\n",
       "    <tr style=\"text-align: right;\">\n",
       "      <th></th>\n",
       "      <th>id</th>\n",
       "      <th>label</th>\n",
       "      <th>tweet</th>\n",
       "    </tr>\n",
       "  </thead>\n",
       "  <tbody>\n",
       "    <tr>\n",
       "      <th>0</th>\n",
       "      <td>1</td>\n",
       "      <td>0</td>\n",
       "      <td>@user when a father is dysfunctional and is s...</td>\n",
       "    </tr>\n",
       "    <tr>\n",
       "      <th>1</th>\n",
       "      <td>2</td>\n",
       "      <td>0</td>\n",
       "      <td>@user @user thanks for #lyft credit i can't us...</td>\n",
       "    </tr>\n",
       "    <tr>\n",
       "      <th>2</th>\n",
       "      <td>3</td>\n",
       "      <td>0</td>\n",
       "      <td>bihday your majesty</td>\n",
       "    </tr>\n",
       "    <tr>\n",
       "      <th>3</th>\n",
       "      <td>4</td>\n",
       "      <td>0</td>\n",
       "      <td>#model   i love u take with u all the time in ...</td>\n",
       "    </tr>\n",
       "    <tr>\n",
       "      <th>4</th>\n",
       "      <td>5</td>\n",
       "      <td>0</td>\n",
       "      <td>factsguide: society now    #motivation</td>\n",
       "    </tr>\n",
       "  </tbody>\n",
       "</table>\n",
       "</div>"
      ],
      "text/plain": [
       "   id  label                                              tweet\n",
       "0   1      0   @user when a father is dysfunctional and is s...\n",
       "1   2      0  @user @user thanks for #lyft credit i can't us...\n",
       "2   3      0                                bihday your majesty\n",
       "3   4      0  #model   i love u take with u all the time in ...\n",
       "4   5      0             factsguide: society now    #motivation"
      ]
     },
     "execution_count": 46,
     "metadata": {},
     "output_type": "execute_result"
    }
   ],
   "source": [
    "import pandas as pd\n",
    "import numpy as np\n",
    "import nltk\n",
    "from textblob import Word\n",
    "\n",
    "df = pd.read_csv('./train_E6oV3lV.csv')\n",
    "df.head()"
   ]
  },
  {
   "cell_type": "code",
   "execution_count": 47,
   "metadata": {},
   "outputs": [
    {
     "data": {
      "text/plain": [
       "(31962, 3)"
      ]
     },
     "execution_count": 47,
     "metadata": {},
     "output_type": "execute_result"
    }
   ],
   "source": [
    "df.shape"
   ]
  },
  {
   "cell_type": "markdown",
   "metadata": {},
   "source": [
    "The first step is to prepare the data using the data cleaning techniques implemented in stage 1 as well as a few new steps. These include:\n",
    "- transform all tweet text to be lower case\n",
    "- remove punctuation\n",
    "- clean white space\n",
    "- remove urls\n",
    "- lemmatization\n",
    "- \n",
    "For a full explanation of these techniques & their applicablity to improving the classification task please refer to the notebook from part 1."
   ]
  },
  {
   "cell_type": "code",
   "execution_count": 48,
   "metadata": {},
   "outputs": [
    {
     "data": {
      "text/html": [
       "<div>\n",
       "<style scoped>\n",
       "    .dataframe tbody tr th:only-of-type {\n",
       "        vertical-align: middle;\n",
       "    }\n",
       "\n",
       "    .dataframe tbody tr th {\n",
       "        vertical-align: top;\n",
       "    }\n",
       "\n",
       "    .dataframe thead th {\n",
       "        text-align: right;\n",
       "    }\n",
       "</style>\n",
       "<table border=\"1\" class=\"dataframe\">\n",
       "  <thead>\n",
       "    <tr style=\"text-align: right;\">\n",
       "      <th></th>\n",
       "      <th>id</th>\n",
       "      <th>label</th>\n",
       "      <th>tweet</th>\n",
       "    </tr>\n",
       "  </thead>\n",
       "  <tbody>\n",
       "    <tr>\n",
       "      <th>0</th>\n",
       "      <td>1</td>\n",
       "      <td>0</td>\n",
       "      <td>user when a father is dysfunctional and is so ...</td>\n",
       "    </tr>\n",
       "    <tr>\n",
       "      <th>1</th>\n",
       "      <td>2</td>\n",
       "      <td>0</td>\n",
       "      <td>user user thanks for lyft credit i cant use ca...</td>\n",
       "    </tr>\n",
       "    <tr>\n",
       "      <th>2</th>\n",
       "      <td>3</td>\n",
       "      <td>0</td>\n",
       "      <td>bihday your majesty</td>\n",
       "    </tr>\n",
       "    <tr>\n",
       "      <th>3</th>\n",
       "      <td>4</td>\n",
       "      <td>0</td>\n",
       "      <td>model i love u take with u all the time in urð...</td>\n",
       "    </tr>\n",
       "    <tr>\n",
       "      <th>4</th>\n",
       "      <td>5</td>\n",
       "      <td>0</td>\n",
       "      <td>factsguide society now motivation</td>\n",
       "    </tr>\n",
       "  </tbody>\n",
       "</table>\n",
       "</div>"
      ],
      "text/plain": [
       "   id  label                                              tweet\n",
       "0   1      0  user when a father is dysfunctional and is so ...\n",
       "1   2      0  user user thanks for lyft credit i cant use ca...\n",
       "2   3      0                                bihday your majesty\n",
       "3   4      0  model i love u take with u all the time in urð...\n",
       "4   5      0                  factsguide society now motivation"
      ]
     },
     "execution_count": 48,
     "metadata": {},
     "output_type": "execute_result"
    }
   ],
   "source": [
    "# transform to lower case\n",
    "df.tweet = df.tweet.apply(lambda x: \" \".join(x.lower() for x in x.split()))\n",
    "df.tweet.head()\n",
    "\n",
    "# remove punctuation\n",
    "df.tweet = df.tweet.str.replace('[^\\w\\s]','')\n",
    "\n",
    "# remove urls\n",
    "df.tweet = df.tweet.str.replace(r'http[\\w:/\\.]+','') \n",
    "\n",
    "df.tweet = df.tweet.str.replace(r'\\.\\.+','.') #replace multple periods with a single one\n",
    "df.tweet = df.tweet.str.replace(r'\\.',' .')   #replace multple periods with a single one\n",
    "df.tweet = df.tweet.str.replace(r'\\s\\s+',' ') #replace multple white space with a single one\n",
    "\n",
    "\n",
    "# lemmatization\n",
    "df.tweet = df.tweet.apply(lambda x: \" \".join([Word(word).lemmatize() for word in x.split()]))\n",
    "df.tweet = df.tweet.str.strip() \n",
    "df.head()\n"
   ]
  },
  {
   "cell_type": "markdown",
   "metadata": {},
   "source": [
    "To quantify the reliability of our classification model we will use the **F1 Score** described below:\n",
    "\n",
    "**True Positives (TP)** - These are the correctly predicted positive values which means that the value of actual class is yes and the value of predicted class is also yes.\n",
    "\n",
    "**True Negatives (TN)** - These are the correctly predicted negative values which means that the value of actual class is no and value of predicted class is also no.\n",
    "\n",
    "**False Positives (FP)** – When actual class is no and predicted class is yes.\n",
    "\n",
    "**False Negatives (FN)** – When actual class is yes but predicted class in no.\n",
    "\n",
    "**Precision** = TP/TP+FP\n",
    "\n",
    "**Recall** = TP/TP+FN\n",
    "\n",
    "**F1 Score** = 2*(Recall * Precision) / (Recall + Precision)\n",
    "http://scikit-learn.org/stable/modules/generated/sklearn.metrics.f1_score.html\n",
    "\n",
    "![title](https://upload.wikimedia.org/wikipedia/commons/thumb/2/26/Precisionrecall.svg/350px-Precisionrecall.svg.png) https://en.wikipedia.org/wiki/F1_score"
   ]
  },
  {
   "cell_type": "markdown",
   "metadata": {},
   "source": [
    "## Section 2: Approach ##\n",
    "In Stage 1 of our sentiment analysis project we built a simple model by counting the frequencies of every word as they occur in each tweet. This is known as the 'bag-of-words' (BoW) method in in Natural Language rocessing (NLP). We can think of the bag-of-words as representing each tweet as a multiset, or alternatively a vector. While this feature is relatively simple to extract, for stage 2 we will employ a more sophisticated approach using a specific type of Recurring Neural Net (RNN) known as a Long Short Term Memory network (LSTM). \n",
    "\n",
    "Compared with the 'bag-of-words' approach the LSTM model can take into account sentence structure. Where the BoW method considers only how many times a particular word occurs in tweet, the LSTM model can take into account word order through using a chain like structure of cell states.\n",
    "<br><br>\n",
    "![The repeating module in an LSTM contains four interacting layers.](http://colah.github.io/posts/2015-08-Understanding-LSTMs/img/LSTM3-chain.png)\n",
    "<br>\n",
    "<center><b> The repeating module of a simple unrolled LSTM containing four interacting layers.</b></center>\n",
    "<br>\n",
    "As the network encounters new pieces of information the these layers decides how much information is carried forward or let through, and how much is added. Each LSTM cell takes an input vector and the hidden output vector of the previous cell and produces an output vector and the hidden output vector for the next cell. "
   ]
  },
  {
   "cell_type": "markdown",
   "metadata": {},
   "source": [
    "#### Using multiple models for binary classification\n",
    "We will benchmark this LSTM model against a model using Multinomial Naive Bayes With Tf-Idf Vectors, as well as a Support Vector Machine (SVM) model with balanced class weights."
   ]
  },
  {
   "cell_type": "code",
   "execution_count": 49,
   "metadata": {},
   "outputs": [],
   "source": [
    "%matplotlib inline\n",
    "import matplotlib.pyplot as plt\n",
    "import re\n",
    "\n",
    "from keras.models import Sequential\n",
    "from keras.layers import Activation, Dropout, Flatten, Dense, BatchNormalization, LSTM, Embedding, Reshape\n",
    "from keras.models import load_model, model_from_json\n",
    "\n",
    "from sklearn.model_selection import train_test_split\n",
    "\n",
    "import os\n",
    "import urllib\n",
    "\n",
    "from collections import Counter"
   ]
  },
  {
   "cell_type": "markdown",
   "metadata": {},
   "source": [
    "https://stackoverflow.com/questions/43034960/many-to-one-and-many-to-many-lstm-examples-in-keras"
   ]
  },
  {
   "cell_type": "code",
   "execution_count": 50,
   "metadata": {},
   "outputs": [
    {
     "data": {
      "text/plain": [
       "'user when a father is dysfunctional and is so selfish he drag his kid into his dysfunction run'"
      ]
     },
     "execution_count": 50,
     "metadata": {},
     "output_type": "execute_result"
    }
   ],
   "source": [
    "df.tweet.values[0]"
   ]
  },
  {
   "cell_type": "markdown",
   "metadata": {},
   "source": [
    "We get all the unique words from each tweet. We will only consider words that are used more than 4 times. From this we create a dictionary mapping words to integers.\n",
    "\n",
    "From there we will create a list of tweets with all the words converted to ints."
   ]
  },
  {
   "cell_type": "code",
   "execution_count": 51,
   "metadata": {},
   "outputs": [
    {
     "name": "stdout",
     "output_type": "stream",
     "text": [
      "The number of unique words are:  6108\n",
      "The first tweet looks like this: \n",
      "[0, 35, 3, 55, 9, 6108, 6, 9, 20, 3166, 82, 3421, 100, 205, 264, 100, 6108, 436]\n"
     ]
    }
   ],
   "source": [
    "all_text = ' '.join(df.tweet.values)\n",
    "words = all_text.split()\n",
    "u_words = Counter(words).most_common()\n",
    "# we will only consider words that have been used more than 4 times\n",
    "u_words = [word[0] for word in u_words if word[1]>4] \n",
    "# create the dictionary\n",
    "word2num = dict(zip(u_words,range(len(u_words))))\n",
    "word2num['<Other>'] = len(u_words)\n",
    "num2word = dict(zip(word2num.values(), word2num.keys()))\n",
    "\n",
    "int_text = [[word2num[word] if word in word2num else len(u_words) for word in Review.split()] for Review in df.tweet.values]\n",
    "\n",
    "print('The number of unique words are: ', len(u_words))\n",
    "print('The first tweet looks like this: ')\n",
    "print(int_text[0][:20])"
   ]
  },
  {
   "cell_type": "code",
   "execution_count": 52,
   "metadata": {},
   "outputs": [
    {
     "data": {
      "image/png": "[encoded data removed]",
      "text/plain": [
       "<Figure size 432x288 with 1 Axes>"
      ]
     },
     "metadata": {},
     "output_type": "display_data"
    }
   ],
   "source": [
    "plt.hist([len(t) for t in int_text],30)\n",
    "plt.xlabel('tweet length')\n",
    "plt.ylabel('number of tweets')\n",
    "plt.show()"
   ]
  },
  {
   "cell_type": "markdown",
   "metadata": {},
   "source": [
    "We will use a many to one LSTM"
   ]
  },
  {
   "cell_type": "code",
   "execution_count": 27,
   "metadata": {},
   "outputs": [
    {
     "name": "stdout",
     "output_type": "stream",
     "text": [
      "The number of tweets greater than 25 in length is:  380\n"
     ]
    }
   ],
   "source": [
    "print('The number of tweets greater than 25 in length is: ', np.sum(np.array([len(t)>25 for t in int_text])))"
   ]
  },
  {
   "cell_type": "markdown",
   "metadata": {},
   "source": [
    "You cannot pass differing lengths of sentences to the algorithm. Hence we shall prepad the sentence with <PAD>. Sequences less than 25 in length will be prepadded and sequences that are longer than 25 will be truncated. We assume that 25 characters will be sufficient to classify the sentiment."
   ]
  },
  {
   "cell_type": "code",
   "execution_count": 53,
   "metadata": {},
   "outputs": [],
   "source": [
    "num2word[len(word2num)] = '<PAD>'\n",
    "word2num['<PAD>'] = len(word2num)\n",
    "\n",
    "for i, t in enumerate(int_text):\n",
    "    if len(t)<25:\n",
    "        int_text[i] = [word2num['<PAD>']]*(25-len(t)) + t\n",
    "    elif len(t)>25:\n",
    "        int_text[i] = t[:25]\n",
    "    else:\n",
    "        continue\n",
    "\n",
    "x = np.array(int_text)\n",
    "y = df.label.values\n",
    "\n",
    "# split data for train/test crossover\n",
    "X_train, X_test, y_train, y_test = train_test_split(x, y, test_size=0.1, random_state=42)"
   ]
  },
  {
   "cell_type": "markdown",
   "metadata": {},
   "source": [
    "#### Many To One LSTM\n",
    "For this model we will use a many to one LSTM. We will use the binary cross entropy loss function and the adam optimization algorithm for deep learning which is derived from adaptive moment estmation. It is an extenison to stochastic gradient descent. "
   ]
  },
  {
   "cell_type": "code",
   "execution_count": 63,
   "metadata": {},
   "outputs": [
    {
     "name": "stdout",
     "output_type": "stream",
     "text": [
      "_________________________________________________________________\n",
      "Layer (type)                 Output Shape              Param #   \n",
      "=================================================================\n",
      "embedding_6 (Embedding)      (None, None, 32)          195520    \n",
      "_________________________________________________________________\n",
      "lstm_6 (LSTM)                (None, 64)                24832     \n",
      "_________________________________________________________________\n",
      "dense_6 (Dense)              (None, 1)                 65        \n",
      "=================================================================\n",
      "Total params: 220,417\n",
      "Trainable params: 220,417\n",
      "Non-trainable params: 0\n",
      "_________________________________________________________________\n"
     ]
    }
   ],
   "source": [
    "model = Sequential()\n",
    "model.add(Embedding(len(word2num), 32)) # , batch_size=batch_size\n",
    "model.add(LSTM(64))\n",
    "model.add(Dense(1, activation='sigmoid'))\n",
    "\n",
    "model.compile(loss='binary_crossentropy', optimizer='adam', metrics=['accuracy'])\n",
    "model.summary()"
   ]
  },
  {
   "cell_type": "code",
   "execution_count": 55,
   "metadata": {},
   "outputs": [
    {
     "data": {
      "text/plain": [
       "(28765, 25)"
      ]
     },
     "execution_count": 55,
     "metadata": {},
     "output_type": "execute_result"
    }
   ],
   "source": [
    "X_train.shape"
   ]
  },
  {
   "cell_type": "code",
   "execution_count": 64,
   "metadata": {},
   "outputs": [
    {
     "name": "stdout",
     "output_type": "stream",
     "text": [
      "Epoch 1/2\n",
      "28765/28765 [==============================] - 6s 215us/step - loss: 0.2247 - acc: 0.9355\n",
      "Epoch 2/2\n",
      "28765/28765 [==============================] - 5s 191us/step - loss: 0.1003 - acc: 0.9642\n"
     ]
    },
    {
     "data": {
      "text/plain": [
       "<keras.callbacks.History at 0x7fa547147b70>"
      ]
     },
     "execution_count": 64,
     "metadata": {},
     "output_type": "execute_result"
    }
   ],
   "source": [
    "batch_size = 128 \n",
    "model.fit(X_train, y_train, batch_size=batch_size, epochs=2)"
   ]
  },
  {
   "cell_type": "markdown",
   "metadata": {},
   "source": [
    "The first value below is the loss rate, while the second value is the accuracy metric calculated by keras."
   ]
  },
  {
   "cell_type": "code",
   "execution_count": 61,
   "metadata": {},
   "outputs": [
    {
     "name": "stdout",
     "output_type": "stream",
     "text": [
      "3197/3197 [==============================] - 0s 114us/step\n"
     ]
    },
    {
     "data": {
      "text/plain": [
       "[0.12464232382026358, 0.9583984977534535]"
      ]
     },
     "execution_count": 61,
     "metadata": {},
     "output_type": "execute_result"
    }
   ],
   "source": [
    "model.evaluate(X_test, y_test, batch_size=batch_size) # loss value & accuracy"
   ]
  },
  {
   "cell_type": "markdown",
   "metadata": {},
   "source": [
    "The model we've built seems promising, showing high accuracy using the split training data. Lets calculate the F1 score over our test split with sci-kit."
   ]
  },
  {
   "cell_type": "code",
   "execution_count": 65,
   "metadata": {},
   "outputs": [
    {
     "name": "stdout",
     "output_type": "stream",
     "text": [
      "             precision    recall  f1-score   support\n",
      "\n",
      "          0       0.97      0.99      0.98      2984\n",
      "          1       0.79      0.57      0.66       213\n",
      "\n",
      "avg / total       0.96      0.96      0.96      3197\n",
      "\n"
     ]
    },
    {
     "data": {
      "text/plain": [
       "(3197,)"
      ]
     },
     "execution_count": 65,
     "metadata": {},
     "output_type": "execute_result"
    }
   ],
   "source": [
    "print(classification_report(y_test, np.round(model.predict(X_test))))\n",
    "y_test.shape"
   ]
  },
  {
   "cell_type": "markdown",
   "metadata": {},
   "source": [
    "The prediction for a single tweet looks like this"
   ]
  },
  {
   "cell_type": "code",
   "execution_count": 59,
   "metadata": {},
   "outputs": [
    {
     "data": {
      "text/plain": [
       "array([6109, 6109, 6109, 6109, 6109, 6109, 6109,    0, 6108,  377,  150,\n",
       "         12,   68,    9, 6108,    4,  150,   27, 6108, 6108, 6108,   68,\n",
       "        148, 4028, 4028])"
      ]
     },
     "execution_count": 59,
     "metadata": {},
     "output_type": "execute_result"
    }
   ],
   "source": [
    "X_test[0,:]"
   ]
  },
  {
   "cell_type": "code",
   "execution_count": 60,
   "metadata": {},
   "outputs": [
    {
     "data": {
      "text/plain": [
       "array([[0.00049756]], dtype=float32)"
      ]
     },
     "execution_count": 60,
     "metadata": {},
     "output_type": "execute_result"
    }
   ],
   "source": [
    "model.predict(X_test[0][None,:])"
   ]
  },
  {
   "cell_type": "code",
   "execution_count": 61,
   "metadata": {},
   "outputs": [
    {
     "data": {
      "text/plain": [
       "0"
      ]
     },
     "execution_count": 61,
     "metadata": {},
     "output_type": "execute_result"
    }
   ],
   "source": [
    "y_test[0]"
   ]
  },
  {
   "cell_type": "markdown",
   "metadata": {},
   "source": [
    "Lets try building other models for comparison."
   ]
  },
  {
   "cell_type": "markdown",
   "metadata": {},
   "source": [
    "#### Multinomial Naive Bayes With Tf-Idf Vectors & SVM with balanced class weights\n",
    "For these models we will use a 3-way training split and use grid search for parameter tuning."
   ]
  },
  {
   "cell_type": "code",
   "execution_count": 33,
   "metadata": {},
   "outputs": [
    {
     "name": "stdout",
     "output_type": "stream",
     "text": [
      "\n",
      "MNB best params:\n",
      " {'tfidf__use_idf': True, 'vect__binary': True, 'vect__ngram_range': (1, 2)}\n",
      "\n",
      "SVM best params:\n",
      " {'tfidf__use_idf': True, 'vect__binary': True, 'vect__ngram_range': (1, 2)}\n",
      "\n",
      "MNB test result:\n",
      "              precision    recall  f1-score   support\n",
      "\n",
      "          0       0.94      1.00      0.97      9793\n",
      "          1       1.00      0.11      0.19       755\n",
      "\n",
      "avg / total       0.94      0.94      0.91     10548\n",
      "\n",
      "\n",
      "SVM test result:\n",
      "              precision    recall  f1-score   support\n",
      "\n",
      "          0       0.98      0.96      0.97      9793\n",
      "          1       0.58      0.75      0.66       755\n",
      "\n",
      "avg / total       0.95      0.94      0.95     10548\n",
      "\n"
     ]
    }
   ],
   "source": [
    "from sklearn.feature_extraction.text import CountVectorizer, TfidfTransformer\n",
    "from sklearn.grid_search import GridSearchCV\n",
    "from sklearn.metrics import classification_report, \n",
    "from sklearn.naive_bayes import MultinomialNB\n",
    "from sklearn.pipeline import Pipeline\n",
    "from sklearn.svm import LinearSVC\n",
    "\n",
    "X_train, X_test, y_train, y_test = train_test_split(df.tweet, df.label, test_size=0.33,\n",
    "                                                    random_state=5)\n",
    "\n",
    "# Pipeline for multinomial naive Bayes\n",
    "mnb = Pipeline([('vect', CountVectorizer(lowercase=False)),\n",
    "                ('tfidf', TfidfTransformer()),\n",
    "                ('clf', MultinomialNB())\n",
    "               ])\n",
    "\n",
    "\n",
    "# Pipeline for polynomial support vector machine with balanced class weights\n",
    "svm = Pipeline([('vect', CountVectorizer(lowercase=False)),\n",
    "                ('tfidf', TfidfTransformer()),\n",
    "                ('clf', LinearSVC(C=0.1, penalty='l2', class_weight='balanced'))\n",
    "               ])\n",
    "\n",
    "# Grid search parameters\n",
    "param_grid = [{'vect__binary': [True],\n",
    "               'vect__ngram_range': [(1, 1), (1, 2)],\n",
    "               'tfidf__use_idf': [True, False]\n",
    "              },\n",
    "              {'vect__binary': [False],\n",
    "               'vect__ngram_range': [(1, 1), (1, 2)],\n",
    "               'tfidf__use_idf': [True, False]\n",
    "              }\n",
    "             ]\n",
    "\n",
    "# Find best parameters for MNB\n",
    "gs_mnb = GridSearchCV(mnb, param_grid)\n",
    "gs_mnb.fit(X_train, y_train)\n",
    "print('\\nMNB best params:\\n', gs_mnb.best_params_)\n",
    "\n",
    "# Find best parameters for SVM\n",
    "gs_svm = GridSearchCV(svm, param_grid)\n",
    "gs_svm.fit(X_train, y_train)\n",
    "print('\\nSVM best params:\\n', gs_svm.best_params_)\n",
    "\n",
    "# Print accuracy\n",
    "print('\\nMNB test result:\\n', classification_report(y_test, gs_mnb.predict(X_test)))\n",
    "print('\\nSVM test result:\\n', classification_report(y_test, gs_svm.predict(X_test)))"
   ]
  },
  {
   "cell_type": "code",
   "execution_count": 41,
   "metadata": {},
   "outputs": [
    {
     "name": "stdout",
     "output_type": "stream",
     "text": [
      "MNB Accuracy:  0.9360068259385665\n",
      "SVM Accuracy:  0.943875616230565\n"
     ]
    }
   ],
   "source": [
    "print('MNB Accuracy: ', metrics.accuracy_score(y_test, gs_mnb.predict(X_test)))\n",
    "print('SVM Accuracy: ', metrics.accuracy_score(y_test, gs_svm.predict(X_test)))      "
   ]
  },
  {
   "cell_type": "markdown",
   "metadata": {},
   "source": [
    "## Section 3: Comparing Results\n",
    "The results from MNB and SVM seem quite accurate, although not as accurate as the LSTM network. We will compare the F1-scores and confusion matrix for each model. We will also calculated the Matthews correlation coefficient (MCC) which takes into acount true and false positives and negatives and \"is generally regarded as a balanced measure which can be used even if the classes are of very different sizes\". It is a number between -1 and +1 and can be considered a summary of the confusion matrix. http://scikit-learn.org/stable/modules/generated/sklearn.metrics.matthews_corrcoef.html"
   ]
  },
  {
   "cell_type": "code",
   "execution_count": 12,
   "metadata": {},
   "outputs": [],
   "source": [
    "def plot_confusion_matrix(cm,\n",
    "                          target_names,\n",
    "                          title='Confusion matrix',\n",
    "                          cmap=None,\n",
    "                          normalize=True):\n",
    "    \"\"\"\n",
    "    given a sklearn confusion matrix (cm), make a nice plot\n",
    "\n",
    "    Arguments\n",
    "    ---------\n",
    "    cm:           confusion matrix from sklearn.metrics.confusion_matrix\n",
    "\n",
    "    target_names: given classification classes such as [0, 1, 2]\n",
    "                  the class names, for example: ['high', 'medium', 'low']\n",
    "\n",
    "    title:        the text to display at the top of the matrix\n",
    "\n",
    "    cmap:         the gradient of the values displayed from matplotlib.pyplot.cm\n",
    "                  see http://matplotlib.org/examples/color/colormaps_reference.html\n",
    "                  plt.get_cmap('jet') or plt.cm.Blues\n",
    "\n",
    "    normalize:    If False, plot the raw numbers\n",
    "                  If True, plot the proportions\n",
    "\n",
    "    Usage\n",
    "    -----\n",
    "    plot_confusion_matrix(cm           = cm,                  # confusion matrix created by\n",
    "                                                              # sklearn.metrics.confusion_matrix\n",
    "                          normalize    = True,                # show proportions\n",
    "                          target_names = y_labels_vals,       # list of names of the classes\n",
    "                          title        = best_estimator_name) # title of graph\n",
    "\n",
    "    Citiation\n",
    "    ---------\n",
    "    http://scikit-learn.org/stable/auto_examples/model_selection/plot_confusion_matrix.html\n",
    "\n",
    "    \"\"\"\n",
    "    import itertools\n",
    "\n",
    "    accuracy = np.trace(cm) / float(np.sum(cm))\n",
    "    misclass = 1 - accuracy\n",
    "\n",
    "    if cmap is None:\n",
    "        cmap = plt.get_cmap('Blues')\n",
    "\n",
    "    plt.figure(figsize=(8, 6))\n",
    "    plt.imshow(cm, interpolation='nearest', cmap=cmap)\n",
    "    plt.title(title)\n",
    "    plt.colorbar()\n",
    "\n",
    "    if target_names is not None:\n",
    "        tick_marks = np.arange(len(target_names))\n",
    "        plt.xticks(tick_marks, target_names, rotation=45)\n",
    "        plt.yticks(tick_marks, target_names)\n",
    "\n",
    "    if normalize:\n",
    "        cm = cm.astype('float') / cm.sum(axis=1)[:, np.newaxis]\n",
    "\n",
    "\n",
    "    thresh = cm.max() / 1.5 if normalize else cm.max() / 2\n",
    "    for i, j in itertools.product(range(cm.shape[0]), range(cm.shape[1])):\n",
    "        if normalize:\n",
    "            plt.text(j, i, \"{:0.4f}\".format(cm[i, j]),\n",
    "                     horizontalalignment=\"center\",\n",
    "                     color=\"white\" if cm[i, j] > thresh else \"black\")\n",
    "        else:\n",
    "            plt.text(j, i, \"{:,}\".format(cm[i, j]),\n",
    "                     horizontalalignment=\"center\",\n",
    "                     color=\"white\" if cm[i, j] > thresh else \"black\")\n",
    "\n",
    "\n",
    "    plt.tight_layout()\n",
    "    plt.ylabel('True label')\n",
    "    plt.xlabel('Predicted label\\naccuracy={:0.4f}; misclass={:0.4f}'.format(accuracy, misclass))\n",
    "    plt.show()"
   ]
  },
  {
   "cell_type": "code",
   "execution_count": 66,
   "metadata": {},
   "outputs": [
    {
     "name": "stdout",
     "output_type": "stream",
     "text": [
      "Classification report for LSTM\n",
      "\n",
      "             precision    recall  f1-score   support\n",
      "\n",
      "          0       0.97      0.99      0.98      2984\n",
      "          1       0.79      0.57      0.66       213\n",
      "\n",
      "avg / total       0.96      0.96      0.96      3197\n",
      "\n"
     ]
    },
    {
     "data": {
      "image/png": "[encoded data removed]",
      "text/plain": [
       "<Figure size 576x432 with 2 Axes>"
      ]
     },
     "metadata": {},
     "output_type": "display_data"
    },
    {
     "name": "stdout",
     "output_type": "stream",
     "text": [
      "Matthews correlation coefficient (MCC):  0.6487026184026394\n"
     ]
    }
   ],
   "source": [
    "from sklearn import metrics\n",
    "\n",
    "pred = np.round(model.predict(X_test))\n",
    "cm = metrics.confusion_matrix(y_test, pred, labels=[0, 1])\n",
    "mt = metrics.matthews_corrcoef(y_test, pred)\n",
    "print('Classification report for LSTM\\n')\n",
    "print(classification_report(y_test, np.round(model.predict(X_test))))\n",
    "\n",
    "plot_confusion_matrix(cm, [0,1])\n",
    "print('Matthews correlation coefficient (MCC): ', mt)"
   ]
  },
  {
   "cell_type": "code",
   "execution_count": 37,
   "metadata": {
    "scrolled": false
   },
   "outputs": [
    {
     "name": "stdout",
     "output_type": "stream",
     "text": [
      "Classification report for MNB\n",
      "\n",
      "             precision    recall  f1-score   support\n",
      "\n",
      "          0       0.94      1.00      0.97      9793\n",
      "          1       1.00      0.11      0.19       755\n",
      "\n",
      "avg / total       0.94      0.94      0.91     10548\n",
      "\n"
     ]
    },
    {
     "data": {
      "image/png": "[encoded data removed]",
      "text/plain": [
       "<Figure size 576x432 with 2 Axes>"
      ]
     },
     "metadata": {},
     "output_type": "display_data"
    },
    {
     "name": "stdout",
     "output_type": "stream",
     "text": [
      "Matthews correlation coefficient (MCC):  0.3148455344496345\n"
     ]
    }
   ],
   "source": [
    "pred = gs_mnb.predict(X_test)\n",
    "cm = metrics.confusion_matrix(y_test, pred, labels=[0, 1])\n",
    "mt = metrics.matthews_corrcoef(y_test, pred)\n",
    "print('Classification report for MNB\\n')\n",
    "print(classification_report(y_test, pred))\n",
    "\n",
    "plot_confusion_matrix(cm, [0,1])\n",
    "print('Matthews correlation coefficient (MCC): ', mt)"
   ]
  },
  {
   "cell_type": "code",
   "execution_count": 36,
   "metadata": {},
   "outputs": [
    {
     "name": "stdout",
     "output_type": "stream",
     "text": [
      "Classification report for SVM\n",
      "\n",
      "             precision    recall  f1-score   support\n",
      "\n",
      "          0       0.98      0.96      0.97      9793\n",
      "          1       0.58      0.75      0.66       755\n",
      "\n",
      "avg / total       0.95      0.94      0.95     10548\n",
      "\n"
     ]
    },
    {
     "data": {
      "image/png": "[encoded data removed]",
      "text/plain": [
       "<Figure size 576x432 with 2 Axes>"
      ]
     },
     "metadata": {},
     "output_type": "display_data"
    },
    {
     "name": "stdout",
     "output_type": "stream",
     "text": [
      "Matthews correlation coefficient (MCC):  0.6333617246228929\n"
     ]
    }
   ],
   "source": [
    "pred = gs_svm.predict(X_test)\n",
    "cm = metrics.confusion_matrix(y_test, pred, labels=[0, 1])\n",
    "mt = metrics.matthews_corrcoef(y_test, pred)\n",
    "print('Classification report for SVM\\n')\n",
    "print(classification_report(y_test, pred))\n",
    "\n",
    "plot_confusion_matrix(cm, [0,1])\n",
    "print('Matthews correlation coefficient (MCC): ', mt)                              "
   ]
  },
  {
   "cell_type": "markdown",
   "metadata": {},
   "source": [
    "## Section 4: Conclusion\n",
    "By comparing F1 score & MCC (same ordering) we see that LSTM performed best, followed by SVM followed by MNB. \n",
    "\n",
    "From the classification report and confusion matrices we can see that precision for non-hate speech was high (TP/(TP+FP)), with normal tweets rarely being misclassified as hate speech. However recall for hate speech tweets is quite low, (0.58 for LSTM, 0.11 for MNB & 0.75 for SVM).\n",
    "\n",
    "This fact highlights how accuracy alone can be misleading when evaluating a model, since in this case true positived were only 7% of the data set, a big difference in correctly identifying hate speech translates to a small difference in overall accuracy.\n",
    "\n",
    "Interestingly SVM had the lowest false negative by a considerable margin (0.2477 vs 0.4225), despite having slightly less performance using the F1 score & MCC (due to higher false negatives 0.04). MNB had a very poor false negative rate of 0.849."
   ]
  }
 ],
 "metadata": {
  "kernelspec": {
   "display_name": "Python 3",
   "language": "python",
   "name": "python3"
  },
  "language_info": {
   "codemirror_mode": {
    "name": "ipython",
    "version": 3
   },
   "file_extension": ".py",
   "mimetype": "text/x-python",
   "name": "python",
   "nbconvert_exporter": "python",
   "pygments_lexer": "ipython3",
   "version": "3.6.6"
  }
 },
 "nbformat": 4,
 "nbformat_minor": 2
}
